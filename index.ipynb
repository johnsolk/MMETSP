{
 "cells": [
  {
   "cell_type": "markdown",
   "metadata": {},
   "source": [
    "# MMETSP\n",
    "\n",
    "\n",
    "This is a work-in-progress repository, automating the khmer protocols over a large-scale RNAseq data set:\n",
    "\n",
    "https://khmer-protocols.readthedocs.org/en/ctb/mrnaseq/\n",
    "\n",
    "The Marine Microbial Eukaryotic Transcriptome Sequencing Project (MMETSP) data set contains 678 cultured samples of 306 pelagic and endosymbiotic marine eukaryotic species representing more than 40 phyla (Keeling et al. 2014).\n",
    "\n",
    "See [the github repository](https://github.com/dib-lab/MMETSP/), and especially the [README](https://github.com/dib-lab/MMETSP/blob/master/README.md), for more information."
   ]
  },
  {
   "cell_type": "markdown",
   "metadata": {},
   "source": [
    "## MMETSP notebooks\n",
    "\n",
    "\n",
    "[transrate results, published assemblies x our assemblies as reference](MMETSP_reverse_transrate.ipynb)\n",
    "\n",
    "[transrate results, our assemblies x published assemblies as reference](MMETSP_transrate.ipynb)\n",
    "\n"
   ]
  },
  {
   "cell_type": "code",
   "execution_count": null,
   "metadata": {
    "collapsed": true
   },
   "outputs": [],
   "source": []
  }
 ],
 "metadata": {
  "kernelspec": {
   "display_name": "Python 3",
   "language": "python",
   "name": "python3"
  },
  "language_info": {
   "codemirror_mode": {
    "name": "ipython",
    "version": 3
   },
   "file_extension": ".py",
   "mimetype": "text/x-python",
   "name": "python",
   "nbconvert_exporter": "python",
   "pygments_lexer": "ipython3",
   "version": "3.4.3"
  }
 },
 "nbformat": 4,
 "nbformat_minor": 0
}
